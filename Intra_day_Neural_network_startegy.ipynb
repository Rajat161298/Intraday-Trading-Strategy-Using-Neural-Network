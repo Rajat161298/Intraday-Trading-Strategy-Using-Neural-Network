{
 "cells": [
  {
   "cell_type": "code",
   "execution_count": 1,
   "id": "fa6c4c64-3273-49f7-8f4b-a490b1791db1",
   "metadata": {},
   "outputs": [
    {
     "data": {
      "text/html": [
       "<div>\n",
       "<style scoped>\n",
       "    .dataframe tbody tr th:only-of-type {\n",
       "        vertical-align: middle;\n",
       "    }\n",
       "\n",
       "    .dataframe tbody tr th {\n",
       "        vertical-align: top;\n",
       "    }\n",
       "\n",
       "    .dataframe thead th {\n",
       "        text-align: right;\n",
       "    }\n",
       "</style>\n",
       "<table border=\"1\" class=\"dataframe\">\n",
       "  <thead>\n",
       "    <tr style=\"text-align: right;\">\n",
       "      <th></th>\n",
       "      <th>date</th>\n",
       "      <th>open</th>\n",
       "      <th>high</th>\n",
       "      <th>low</th>\n",
       "      <th>close</th>\n",
       "      <th>volume</th>\n",
       "    </tr>\n",
       "  </thead>\n",
       "  <tbody>\n",
       "    <tr>\n",
       "      <th>0</th>\n",
       "      <td>2015-01-09 09:15:00</td>\n",
       "      <td>8300.60</td>\n",
       "      <td>8309.75</td>\n",
       "      <td>8300.60</td>\n",
       "      <td>8308.35</td>\n",
       "      <td>0</td>\n",
       "    </tr>\n",
       "    <tr>\n",
       "      <th>1</th>\n",
       "      <td>2015-01-09 09:16:00</td>\n",
       "      <td>8308.35</td>\n",
       "      <td>8308.65</td>\n",
       "      <td>8304.05</td>\n",
       "      <td>8304.20</td>\n",
       "      <td>0</td>\n",
       "    </tr>\n",
       "    <tr>\n",
       "      <th>2</th>\n",
       "      <td>2015-01-09 09:17:00</td>\n",
       "      <td>8304.20</td>\n",
       "      <td>8308.20</td>\n",
       "      <td>8304.00</td>\n",
       "      <td>8308.20</td>\n",
       "      <td>0</td>\n",
       "    </tr>\n",
       "    <tr>\n",
       "      <th>3</th>\n",
       "      <td>2015-01-09 09:18:00</td>\n",
       "      <td>8308.20</td>\n",
       "      <td>8315.30</td>\n",
       "      <td>8308.20</td>\n",
       "      <td>8315.30</td>\n",
       "      <td>0</td>\n",
       "    </tr>\n",
       "    <tr>\n",
       "      <th>4</th>\n",
       "      <td>2015-01-09 09:19:00</td>\n",
       "      <td>8315.30</td>\n",
       "      <td>8316.10</td>\n",
       "      <td>8314.85</td>\n",
       "      <td>8316.10</td>\n",
       "      <td>0</td>\n",
       "    </tr>\n",
       "  </tbody>\n",
       "</table>\n",
       "</div>"
      ],
      "text/plain": [
       "                  date     open     high      low    close  volume\n",
       "0  2015-01-09 09:15:00  8300.60  8309.75  8300.60  8308.35       0\n",
       "1  2015-01-09 09:16:00  8308.35  8308.65  8304.05  8304.20       0\n",
       "2  2015-01-09 09:17:00  8304.20  8308.20  8304.00  8308.20       0\n",
       "3  2015-01-09 09:18:00  8308.20  8315.30  8308.20  8315.30       0\n",
       "4  2015-01-09 09:19:00  8315.30  8316.10  8314.85  8316.10       0"
      ]
     },
     "execution_count": 1,
     "metadata": {},
     "output_type": "execute_result"
    }
   ],
   "source": [
    "import pandas as pd\n",
    "\n",
    "# Load the dataset\n",
    "file_path = \"downloads/NIFTY 100_minute_data.csv\"\n",
    "df = pd.read_csv(file_path)\n",
    "\n",
    "# Display basic information and the first few rows\n",
    "df.head()"
   ]
  },
  {
   "cell_type": "code",
   "execution_count": 53,
   "id": "dd40fddd-6cd1-4a7c-99e9-72aee699f6e7",
   "metadata": {},
   "outputs": [],
   "source": [
    "#import necessary libraries\n",
    "import pandas as pd\n",
    "import numpy as np\n",
    "from sklearn.model_selection import train_test_split\n",
    "from sklearn.preprocessing import StandardScaler\n",
    "from sklearn.metrics import accuracy_score, classification_report\n",
    "import tensorflow as tf\n",
    "from tensorflow.keras.models import Sequential\n",
    "from tensorflow.keras.layers import GRU, Dense, Dropout\n",
    "from xgboost import XGBClassifier"
   ]
  },
  {
   "cell_type": "code",
   "execution_count": 7,
   "id": "1d002d3d-cd75-4b2c-8931-d03a70562e09",
   "metadata": {},
   "outputs": [],
   "source": [
    "# Convert date column to datetime format\n",
    "df[\"date\"] = pd.to_datetime(df[\"date\"])\n",
    "\n",
    "# Extract trading day and time\n",
    "df[\"trading_day\"] = df[\"date\"].dt.date\n",
    "df[\"time\"] = df[\"date\"].dt.time\n",
    "\n",
    "# Identify first trading hour (09:15 - 10:15) and last trading hour (14:30 - 15:30)\n",
    "first_hour_mask = (df[\"date\"].dt.time >= pd.to_datetime(\"09:15:00\").time()) & (df[\"date\"].dt.time <= pd.to_datetime(\"10:15:00\").time())\n",
    "last_hour_mask = (df[\"date\"].dt.time >= pd.to_datetime(\"14:30:00\").time()) & (df[\"date\"].dt.time <= pd.to_datetime(\"15:30:00\").time())"
   ]
  },
  {
   "cell_type": "code",
   "execution_count": 9,
   "id": "135ef026-4496-4a39-a9f2-1e451265c405",
   "metadata": {},
   "outputs": [],
   "source": [
    "# Extract first and last hour data\n",
    "first_hour_data = df[first_hour_mask].groupby(\"trading_day\").agg(\n",
    "    first_open=(\"open\", \"first\"),\n",
    "    first_high=(\"high\", \"max\"),\n",
    "    first_low=(\"low\", \"min\"),\n",
    "    first_close=(\"close\", \"last\"),\n",
    "    first_mean=(\"close\", \"mean\"),\n",
    "    first_volatility=(\"close\", \"std\")\n",
    ").reset_index()"
   ]
  },
  {
   "cell_type": "code",
   "execution_count": 11,
   "id": "0c68050e-71c4-4ce2-a511-e19deab76860",
   "metadata": {},
   "outputs": [],
   "source": [
    "last_hour_data = df[last_hour_mask].groupby(\"trading_day\").agg(\n",
    "    last_close=(\"close\", \"last\")\n",
    ").reset_index()"
   ]
  },
  {
   "cell_type": "code",
   "execution_count": 13,
   "id": "935be1b1-acc7-4b76-96c4-fc0aa9bee48f",
   "metadata": {},
   "outputs": [],
   "source": [
    "# Merge first and last hour data\n",
    "merged_data = pd.merge(first_hour_data, last_hour_data, on=\"trading_day\")"
   ]
  },
  {
   "cell_type": "code",
   "execution_count": 15,
   "id": "27b19ab8-1d80-47cd-9bc5-4f9af2d5b7cf",
   "metadata": {},
   "outputs": [],
   "source": [
    "# Define target variable: 1 if last_close > first_close else 0\n",
    "merged_data[\"target\"] = (merged_data[\"last_close\"] > merged_data[\"first_close\"]).astype(int)"
   ]
  },
  {
   "cell_type": "code",
   "execution_count": 17,
   "id": "8cf19045-fad4-4128-a50b-8be2e8b7be42",
   "metadata": {},
   "outputs": [],
   "source": [
    "# Compute additional features\n",
    "merged_data[\"first_return\"] = (merged_data[\"first_close\"] / merged_data[\"first_open\"]) - 1  # First hour return\n",
    "merged_data[\"high_low_range\"] = merged_data[\"first_high\"] - merged_data[\"first_low\"]  # First hour range\n",
    "merged_data[\"sma_5\"] = merged_data[\"first_mean\"].rolling(window=5, min_periods=1).mean()\n",
    "merged_data[\"sma_10\"] = merged_data[\"first_mean\"].rolling(window=10, min_periods=1).mean()"
   ]
  },
  {
   "cell_type": "code",
   "execution_count": 19,
   "id": "e1d9fde3-0038-473f-b78d-eee00f44e92e",
   "metadata": {},
   "outputs": [],
   "source": [
    "# Compute RSI manually\n",
    "def compute_rsi(series, window=5):\n",
    "    delta = series.diff()\n",
    "    gain = (delta.where(delta > 0, 0)).rolling(window=window, min_periods=1).mean()\n",
    "    loss = (-delta.where(delta < 0, 0)).rolling(window=window, min_periods=1).mean()\n",
    "    rs = gain / (loss + 1e-9)  # Small value to avoid division by zero\n",
    "    return 100 - (100 / (1 + rs))"
   ]
  },
  {
   "cell_type": "code",
   "execution_count": 21,
   "id": "8c950c38-c363-4c90-b946-afba9a9da142",
   "metadata": {},
   "outputs": [],
   "source": [
    "merged_data[\"rsi\"] = compute_rsi(merged_data[\"first_close\"], window=5)"
   ]
  },
  {
   "cell_type": "code",
   "execution_count": 23,
   "id": "ed681b14-336a-45dc-8e16-19f45d64207b",
   "metadata": {},
   "outputs": [],
   "source": [
    "# Compute Bollinger Bands\n",
    "rolling_mean = merged_data[\"first_close\"].rolling(window=5, min_periods=1).mean()\n",
    "rolling_std = merged_data[\"first_close\"].rolling(window=5, min_periods=1).std()\n",
    "merged_data[\"bb_upper\"] = rolling_mean + (2 * rolling_std)\n",
    "merged_data[\"bb_lower\"] = rolling_mean - (2 * rolling_std)\n",
    "\n",
    "# Drop NaN values after feature computation\n",
    "merged_data = merged_data.dropna()"
   ]
  },
  {
   "cell_type": "code",
   "execution_count": 25,
   "id": "a536170c-d6d0-412b-a13f-6d8210c2529c",
   "metadata": {},
   "outputs": [],
   "source": [
    "# Select features and target\n",
    "X = merged_data[[\n",
    "    \"first_open\", \"first_high\", \"first_low\", \"first_close\", \"first_mean\", \"first_volatility\",\n",
    "    \"first_return\", \"high_low_range\", \"sma_5\", \"sma_10\", \"rsi\", \"bb_upper\", \"bb_lower\"\n",
    "]]\n",
    "y = merged_data[\"target\"]"
   ]
  },
  {
   "cell_type": "code",
   "execution_count": 33,
   "id": "745448ec-5096-491d-8d08-450ee8c565d7",
   "metadata": {},
   "outputs": [],
   "source": [
    "# Define split point (e.g., use 80% of the oldest data for training)\n",
    "split_idx = int(len(X) * 0.8)\n",
    "\n",
    "# Split based on time order\n",
    "X_train, X_test = X[:split_idx], X[split_idx:]\n",
    "y_train, y_test = y[:split_idx], y[split_idx:]"
   ]
  },
  {
   "cell_type": "code",
   "execution_count": 63,
   "id": "b9f17d34-f86f-4e82-8828-80a258b4e829",
   "metadata": {
    "scrolled": true
   },
   "outputs": [
    {
     "name": "stdout",
     "output_type": "stream",
     "text": [
      "Epoch 1/50\n"
     ]
    },
    {
     "name": "stderr",
     "output_type": "stream",
     "text": [
      "C:\\Users\\Rajat\\anaconda3\\Lib\\site-packages\\keras\\src\\layers\\core\\dense.py:87: UserWarning: Do not pass an `input_shape`/`input_dim` argument to a layer. When using Sequential models, prefer using an `Input(shape)` object as the first layer in the model instead.\n",
      "  super().__init__(activity_regularizer=activity_regularizer, **kwargs)\n"
     ]
    },
    {
     "name": "stdout",
     "output_type": "stream",
     "text": [
      "\u001b[1m40/40\u001b[0m \u001b[32m━━━━━━━━━━━━━━━━━━━━\u001b[0m\u001b[37m\u001b[0m \u001b[1m1s\u001b[0m 6ms/step - accuracy: 0.5002 - loss: 0.7075 - val_accuracy: 0.5292 - val_loss: 0.6925\n",
      "Epoch 2/50\n",
      "\u001b[1m40/40\u001b[0m \u001b[32m━━━━━━━━━━━━━━━━━━━━\u001b[0m\u001b[37m\u001b[0m \u001b[1m0s\u001b[0m 3ms/step - accuracy: 0.5218 - loss: 0.6917 - val_accuracy: 0.5372 - val_loss: 0.6897\n",
      "Epoch 3/50\n",
      "\u001b[1m40/40\u001b[0m \u001b[32m━━━━━━━━━━━━━━━━━━━━\u001b[0m\u001b[37m\u001b[0m \u001b[1m0s\u001b[0m 3ms/step - accuracy: 0.5260 - loss: 0.6909 - val_accuracy: 0.5332 - val_loss: 0.6910\n",
      "Epoch 4/50\n",
      "\u001b[1m40/40\u001b[0m \u001b[32m━━━━━━━━━━━━━━━━━━━━\u001b[0m\u001b[37m\u001b[0m \u001b[1m0s\u001b[0m 3ms/step - accuracy: 0.5381 - loss: 0.6900 - val_accuracy: 0.5513 - val_loss: 0.6880\n",
      "Epoch 5/50\n",
      "\u001b[1m40/40\u001b[0m \u001b[32m━━━━━━━━━━━━━━━━━━━━\u001b[0m\u001b[37m\u001b[0m \u001b[1m0s\u001b[0m 3ms/step - accuracy: 0.5621 - loss: 0.6857 - val_accuracy: 0.5272 - val_loss: 0.6905\n",
      "Epoch 6/50\n",
      "\u001b[1m40/40\u001b[0m \u001b[32m━━━━━━━━━━━━━━━━━━━━\u001b[0m\u001b[37m\u001b[0m \u001b[1m0s\u001b[0m 3ms/step - accuracy: 0.5366 - loss: 0.6913 - val_accuracy: 0.5433 - val_loss: 0.6867\n",
      "Epoch 7/50\n",
      "\u001b[1m40/40\u001b[0m \u001b[32m━━━━━━━━━━━━━━━━━━━━\u001b[0m\u001b[37m\u001b[0m \u001b[1m0s\u001b[0m 3ms/step - accuracy: 0.5398 - loss: 0.6861 - val_accuracy: 0.5433 - val_loss: 0.6879\n",
      "Epoch 8/50\n",
      "\u001b[1m40/40\u001b[0m \u001b[32m━━━━━━━━━━━━━━━━━━━━\u001b[0m\u001b[37m\u001b[0m \u001b[1m0s\u001b[0m 3ms/step - accuracy: 0.5590 - loss: 0.6836 - val_accuracy: 0.5412 - val_loss: 0.6878\n",
      "Epoch 9/50\n",
      "\u001b[1m40/40\u001b[0m \u001b[32m━━━━━━━━━━━━━━━━━━━━\u001b[0m\u001b[37m\u001b[0m \u001b[1m0s\u001b[0m 3ms/step - accuracy: 0.5565 - loss: 0.6840 - val_accuracy: 0.5332 - val_loss: 0.6876\n",
      "Epoch 10/50\n",
      "\u001b[1m40/40\u001b[0m \u001b[32m━━━━━━━━━━━━━━━━━━━━\u001b[0m\u001b[37m\u001b[0m \u001b[1m0s\u001b[0m 3ms/step - accuracy: 0.5468 - loss: 0.6824 - val_accuracy: 0.5252 - val_loss: 0.6884\n",
      "Epoch 11/50\n",
      "\u001b[1m40/40\u001b[0m \u001b[32m━━━━━━━━━━━━━━━━━━━━\u001b[0m\u001b[37m\u001b[0m \u001b[1m0s\u001b[0m 3ms/step - accuracy: 0.5600 - loss: 0.6857 - val_accuracy: 0.5433 - val_loss: 0.6872\n",
      "Epoch 12/50\n",
      "\u001b[1m40/40\u001b[0m \u001b[32m━━━━━━━━━━━━━━━━━━━━\u001b[0m\u001b[37m\u001b[0m \u001b[1m0s\u001b[0m 3ms/step - accuracy: 0.5532 - loss: 0.6872 - val_accuracy: 0.5392 - val_loss: 0.6876\n",
      "Epoch 13/50\n",
      "\u001b[1m40/40\u001b[0m \u001b[32m━━━━━━━━━━━━━━━━━━━━\u001b[0m\u001b[37m\u001b[0m \u001b[1m0s\u001b[0m 8ms/step - accuracy: 0.5446 - loss: 0.6867 - val_accuracy: 0.5111 - val_loss: 0.6884\n",
      "Epoch 14/50\n",
      "\u001b[1m40/40\u001b[0m \u001b[32m━━━━━━━━━━━━━━━━━━━━\u001b[0m\u001b[37m\u001b[0m \u001b[1m0s\u001b[0m 4ms/step - accuracy: 0.5545 - loss: 0.6838 - val_accuracy: 0.5412 - val_loss: 0.6871\n",
      "Epoch 15/50\n",
      "\u001b[1m40/40\u001b[0m \u001b[32m━━━━━━━━━━━━━━━━━━━━\u001b[0m\u001b[37m\u001b[0m \u001b[1m0s\u001b[0m 3ms/step - accuracy: 0.5589 - loss: 0.6853 - val_accuracy: 0.5493 - val_loss: 0.6873\n",
      "Epoch 16/50\n",
      "\u001b[1m40/40\u001b[0m \u001b[32m━━━━━━━━━━━━━━━━━━━━\u001b[0m\u001b[37m\u001b[0m \u001b[1m0s\u001b[0m 3ms/step - accuracy: 0.5559 - loss: 0.6842 - val_accuracy: 0.5352 - val_loss: 0.6876\n",
      "Epoch 17/50\n",
      "\u001b[1m40/40\u001b[0m \u001b[32m━━━━━━━━━━━━━━━━━━━━\u001b[0m\u001b[37m\u001b[0m \u001b[1m0s\u001b[0m 3ms/step - accuracy: 0.5694 - loss: 0.6795 - val_accuracy: 0.5151 - val_loss: 0.6891\n",
      "Epoch 18/50\n",
      "\u001b[1m40/40\u001b[0m \u001b[32m━━━━━━━━━━━━━━━━━━━━\u001b[0m\u001b[37m\u001b[0m \u001b[1m0s\u001b[0m 3ms/step - accuracy: 0.5570 - loss: 0.6859 - val_accuracy: 0.5231 - val_loss: 0.6901\n",
      "Epoch 19/50\n",
      "\u001b[1m40/40\u001b[0m \u001b[32m━━━━━━━━━━━━━━━━━━━━\u001b[0m\u001b[37m\u001b[0m \u001b[1m0s\u001b[0m 3ms/step - accuracy: 0.5485 - loss: 0.6864 - val_accuracy: 0.5292 - val_loss: 0.6899\n",
      "Epoch 20/50\n",
      "\u001b[1m40/40\u001b[0m \u001b[32m━━━━━━━━━━━━━━━━━━━━\u001b[0m\u001b[37m\u001b[0m \u001b[1m0s\u001b[0m 3ms/step - accuracy: 0.5469 - loss: 0.6852 - val_accuracy: 0.5211 - val_loss: 0.6909\n",
      "Epoch 21/50\n",
      "\u001b[1m40/40\u001b[0m \u001b[32m━━━━━━━━━━━━━━━━━━━━\u001b[0m\u001b[37m\u001b[0m \u001b[1m0s\u001b[0m 3ms/step - accuracy: 0.5561 - loss: 0.6820 - val_accuracy: 0.5252 - val_loss: 0.6893\n",
      "Epoch 22/50\n",
      "\u001b[1m40/40\u001b[0m \u001b[32m━━━━━━━━━━━━━━━━━━━━\u001b[0m\u001b[37m\u001b[0m \u001b[1m0s\u001b[0m 2ms/step - accuracy: 0.5818 - loss: 0.6763 - val_accuracy: 0.5292 - val_loss: 0.6897\n",
      "Epoch 23/50\n",
      "\u001b[1m40/40\u001b[0m \u001b[32m━━━━━━━━━━━━━━━━━━━━\u001b[0m\u001b[37m\u001b[0m \u001b[1m0s\u001b[0m 3ms/step - accuracy: 0.5505 - loss: 0.6837 - val_accuracy: 0.5392 - val_loss: 0.6882\n",
      "Epoch 24/50\n",
      "\u001b[1m40/40\u001b[0m \u001b[32m━━━━━━━━━━━━━━━━━━━━\u001b[0m\u001b[37m\u001b[0m \u001b[1m0s\u001b[0m 3ms/step - accuracy: 0.5664 - loss: 0.6812 - val_accuracy: 0.5252 - val_loss: 0.6896\n",
      "Epoch 25/50\n",
      "\u001b[1m40/40\u001b[0m \u001b[32m━━━━━━━━━━━━━━━━━━━━\u001b[0m\u001b[37m\u001b[0m \u001b[1m0s\u001b[0m 2ms/step - accuracy: 0.5699 - loss: 0.6809 - val_accuracy: 0.5292 - val_loss: 0.6905\n",
      "Epoch 26/50\n",
      "\u001b[1m40/40\u001b[0m \u001b[32m━━━━━━━━━━━━━━━━━━━━\u001b[0m\u001b[37m\u001b[0m \u001b[1m0s\u001b[0m 3ms/step - accuracy: 0.5545 - loss: 0.6804 - val_accuracy: 0.5433 - val_loss: 0.6897\n",
      "Epoch 27/50\n",
      "\u001b[1m40/40\u001b[0m \u001b[32m━━━━━━━━━━━━━━━━━━━━\u001b[0m\u001b[37m\u001b[0m \u001b[1m0s\u001b[0m 3ms/step - accuracy: 0.5608 - loss: 0.6845 - val_accuracy: 0.5211 - val_loss: 0.6914\n",
      "Epoch 28/50\n",
      "\u001b[1m40/40\u001b[0m \u001b[32m━━━━━━━━━━━━━━━━━━━━\u001b[0m\u001b[37m\u001b[0m \u001b[1m0s\u001b[0m 3ms/step - accuracy: 0.5607 - loss: 0.6785 - val_accuracy: 0.5252 - val_loss: 0.6910\n",
      "Epoch 29/50\n",
      "\u001b[1m40/40\u001b[0m \u001b[32m━━━━━━━━━━━━━━━━━━━━\u001b[0m\u001b[37m\u001b[0m \u001b[1m0s\u001b[0m 3ms/step - accuracy: 0.5649 - loss: 0.6819 - val_accuracy: 0.5372 - val_loss: 0.6908\n",
      "Epoch 30/50\n",
      "\u001b[1m40/40\u001b[0m \u001b[32m━━━━━━━━━━━━━━━━━━━━\u001b[0m\u001b[37m\u001b[0m \u001b[1m0s\u001b[0m 3ms/step - accuracy: 0.5613 - loss: 0.6790 - val_accuracy: 0.5392 - val_loss: 0.6918\n",
      "Epoch 31/50\n",
      "\u001b[1m40/40\u001b[0m \u001b[32m━━━━━━━━━━━━━━━━━━━━\u001b[0m\u001b[37m\u001b[0m \u001b[1m0s\u001b[0m 3ms/step - accuracy: 0.5718 - loss: 0.6778 - val_accuracy: 0.5252 - val_loss: 0.6909\n",
      "Epoch 32/50\n",
      "\u001b[1m40/40\u001b[0m \u001b[32m━━━━━━━━━━━━━━━━━━━━\u001b[0m\u001b[37m\u001b[0m \u001b[1m0s\u001b[0m 3ms/step - accuracy: 0.5539 - loss: 0.6820 - val_accuracy: 0.5252 - val_loss: 0.6915\n",
      "Epoch 33/50\n",
      "\u001b[1m40/40\u001b[0m \u001b[32m━━━━━━━━━━━━━━━━━━━━\u001b[0m\u001b[37m\u001b[0m \u001b[1m0s\u001b[0m 3ms/step - accuracy: 0.5858 - loss: 0.6751 - val_accuracy: 0.5191 - val_loss: 0.6911\n",
      "Epoch 34/50\n",
      "\u001b[1m40/40\u001b[0m \u001b[32m━━━━━━━━━━━━━━━━━━━━\u001b[0m\u001b[37m\u001b[0m \u001b[1m0s\u001b[0m 3ms/step - accuracy: 0.5741 - loss: 0.6765 - val_accuracy: 0.5211 - val_loss: 0.6928\n",
      "Epoch 35/50\n",
      "\u001b[1m40/40\u001b[0m \u001b[32m━━━━━━━━━━━━━━━━━━━━\u001b[0m\u001b[37m\u001b[0m \u001b[1m0s\u001b[0m 2ms/step - accuracy: 0.5695 - loss: 0.6770 - val_accuracy: 0.5433 - val_loss: 0.6902\n",
      "Epoch 36/50\n",
      "\u001b[1m40/40\u001b[0m \u001b[32m━━━━━━━━━━━━━━━━━━━━\u001b[0m\u001b[37m\u001b[0m \u001b[1m0s\u001b[0m 2ms/step - accuracy: 0.5756 - loss: 0.6769 - val_accuracy: 0.5292 - val_loss: 0.6928\n",
      "Epoch 37/50\n",
      "\u001b[1m40/40\u001b[0m \u001b[32m━━━━━━━━━━━━━━━━━━━━\u001b[0m\u001b[37m\u001b[0m \u001b[1m0s\u001b[0m 3ms/step - accuracy: 0.5565 - loss: 0.6767 - val_accuracy: 0.5412 - val_loss: 0.6918\n",
      "Epoch 38/50\n",
      "\u001b[1m40/40\u001b[0m \u001b[32m━━━━━━━━━━━━━━━━━━━━\u001b[0m\u001b[37m\u001b[0m \u001b[1m0s\u001b[0m 3ms/step - accuracy: 0.5740 - loss: 0.6762 - val_accuracy: 0.5392 - val_loss: 0.6933\n",
      "Epoch 39/50\n",
      "\u001b[1m40/40\u001b[0m \u001b[32m━━━━━━━━━━━━━━━━━━━━\u001b[0m\u001b[37m\u001b[0m \u001b[1m0s\u001b[0m 3ms/step - accuracy: 0.5819 - loss: 0.6779 - val_accuracy: 0.5332 - val_loss: 0.6931\n",
      "Epoch 40/50\n",
      "\u001b[1m40/40\u001b[0m \u001b[32m━━━━━━━━━━━━━━━━━━━━\u001b[0m\u001b[37m\u001b[0m \u001b[1m0s\u001b[0m 2ms/step - accuracy: 0.5569 - loss: 0.6842 - val_accuracy: 0.5332 - val_loss: 0.6921\n",
      "Epoch 41/50\n",
      "\u001b[1m40/40\u001b[0m \u001b[32m━━━━━━━━━━━━━━━━━━━━\u001b[0m\u001b[37m\u001b[0m \u001b[1m0s\u001b[0m 2ms/step - accuracy: 0.5867 - loss: 0.6676 - val_accuracy: 0.5332 - val_loss: 0.6922\n",
      "Epoch 42/50\n",
      "\u001b[1m40/40\u001b[0m \u001b[32m━━━━━━━━━━━━━━━━━━━━\u001b[0m\u001b[37m\u001b[0m \u001b[1m0s\u001b[0m 2ms/step - accuracy: 0.5691 - loss: 0.6765 - val_accuracy: 0.5332 - val_loss: 0.6929\n",
      "Epoch 43/50\n",
      "\u001b[1m40/40\u001b[0m \u001b[32m━━━━━━━━━━━━━━━━━━━━\u001b[0m\u001b[37m\u001b[0m \u001b[1m0s\u001b[0m 3ms/step - accuracy: 0.5699 - loss: 0.6757 - val_accuracy: 0.5211 - val_loss: 0.6919\n",
      "Epoch 44/50\n",
      "\u001b[1m40/40\u001b[0m \u001b[32m━━━━━━━━━━━━━━━━━━━━\u001b[0m\u001b[37m\u001b[0m \u001b[1m0s\u001b[0m 3ms/step - accuracy: 0.5968 - loss: 0.6723 - val_accuracy: 0.5252 - val_loss: 0.6917\n",
      "Epoch 45/50\n",
      "\u001b[1m40/40\u001b[0m \u001b[32m━━━━━━━━━━━━━━━━━━━━\u001b[0m\u001b[37m\u001b[0m \u001b[1m0s\u001b[0m 2ms/step - accuracy: 0.5973 - loss: 0.6705 - val_accuracy: 0.5252 - val_loss: 0.6931\n",
      "Epoch 46/50\n",
      "\u001b[1m40/40\u001b[0m \u001b[32m━━━━━━━━━━━━━━━━━━━━\u001b[0m\u001b[37m\u001b[0m \u001b[1m0s\u001b[0m 2ms/step - accuracy: 0.5824 - loss: 0.6783 - val_accuracy: 0.5372 - val_loss: 0.6924\n",
      "Epoch 47/50\n",
      "\u001b[1m40/40\u001b[0m \u001b[32m━━━━━━━━━━━━━━━━━━━━\u001b[0m\u001b[37m\u001b[0m \u001b[1m0s\u001b[0m 2ms/step - accuracy: 0.5697 - loss: 0.6743 - val_accuracy: 0.5392 - val_loss: 0.6928\n",
      "Epoch 48/50\n",
      "\u001b[1m40/40\u001b[0m \u001b[32m━━━━━━━━━━━━━━━━━━━━\u001b[0m\u001b[37m\u001b[0m \u001b[1m0s\u001b[0m 3ms/step - accuracy: 0.5546 - loss: 0.6765 - val_accuracy: 0.5332 - val_loss: 0.6928\n",
      "Epoch 49/50\n",
      "\u001b[1m40/40\u001b[0m \u001b[32m━━━━━━━━━━━━━━━━━━━━\u001b[0m\u001b[37m\u001b[0m \u001b[1m0s\u001b[0m 3ms/step - accuracy: 0.5654 - loss: 0.6815 - val_accuracy: 0.5272 - val_loss: 0.6924\n",
      "Epoch 50/50\n",
      "\u001b[1m40/40\u001b[0m \u001b[32m━━━━━━━━━━━━━━━━━━━━\u001b[0m\u001b[37m\u001b[0m \u001b[1m0s\u001b[0m 3ms/step - accuracy: 0.5607 - loss: 0.6742 - val_accuracy: 0.5352 - val_loss: 0.6913\n",
      "\u001b[1m16/16\u001b[0m \u001b[32m━━━━━━━━━━━━━━━━━━━━\u001b[0m\u001b[37m\u001b[0m \u001b[1m0s\u001b[0m 2ms/step - accuracy: 0.5377 - loss: 0.6928 \n",
      "\u001b[1m16/16\u001b[0m \u001b[32m━━━━━━━━━━━━━━━━━━━━\u001b[0m\u001b[37m\u001b[0m \u001b[1m0s\u001b[0m 3ms/step \n"
     ]
    },
    {
     "data": {
      "text/plain": [
       "(0.5352112650871277,\n",
       " '              precision    recall  f1-score   support\\n\\n           0       0.55      0.50      0.52       252\\n           1       0.53      0.58      0.55       245\\n\\n    accuracy                           0.54       497\\n   macro avg       0.54      0.54      0.53       497\\nweighted avg       0.54      0.54      0.53       497\\n')"
      ]
     },
     "execution_count": 63,
     "metadata": {},
     "output_type": "execute_result"
    }
   ],
   "source": [
    "\n",
    "# Split Data\n",
    "X_train, X_test, y_train, y_test = train_test_split(X, y, test_size=0.2, random_state=42, stratify=y)\n",
    "\n",
    "# Standardize features\n",
    "scaler = StandardScaler()\n",
    "X_train_scaled = scaler.fit_transform(X_train)\n",
    "X_test_scaled = scaler.transform(X_test)\n",
    "\n",
    "# Define the neural network model\n",
    "model = Sequential([\n",
    "    Dense(70, activation=\"relu\", input_shape=(X_train_scaled.shape[1],)),\n",
    "    Dropout(0.1),\n",
    "    Dense(40, activation=\"relu\"),\n",
    "    Dropout(0.1),\n",
    "    Dense(1, activation=\"sigmoid\")  # Output layer for binary classification\n",
    "])\n",
    "\n",
    "# Compile the model\n",
    "model.compile(optimizer=\"adam\", loss=\"binary_crossentropy\", metrics=[\"accuracy\"])\n",
    "\n",
    "# Train the model\n",
    "history = model.fit(X_train_scaled, y_train, epochs=50, batch_size=50, validation_data=(X_test_scaled, y_test), verbose=1)\n",
    "\n",
    "# Evaluate the model on test data\n",
    "test_loss, test_acc = model.evaluate(X_test_scaled, y_test)\n",
    "\n",
    "# Get predictions and classification report\n",
    "y_pred_nn = (model.predict(X_test_scaled) > 0.5).astype(int)\n",
    "nn_report = classification_report(y_test, y_pred_nn)\n",
    "\n",
    "# Display accuracy and classification report\n",
    "test_acc, nn_report"
   ]
  },
  {
   "cell_type": "code",
   "execution_count": 65,
   "id": "1527053d-2dc1-491f-96ec-d689fa3e533e",
   "metadata": {},
   "outputs": [
    {
     "name": "stdout",
     "output_type": "stream",
     "text": [
      "\u001b[1m78/78\u001b[0m \u001b[32m━━━━━━━━━━━━━━━━━━━━\u001b[0m\u001b[37m\u001b[0m \u001b[1m0s\u001b[0m 833us/step\n"
     ]
    }
   ],
   "source": [
    "merged_data['signal'] = model.predict(scaler.transform(X))"
   ]
  },
  {
   "cell_type": "code",
   "execution_count": 73,
   "id": "927c96e4-8d3f-4492-9cbf-e82794e9bd38",
   "metadata": {},
   "outputs": [],
   "source": [
    "merged_data['predicted_signal'] = merged_data['signal'].apply(lambda x: 1 if x>0.5 else 0) "
   ]
  },
  {
   "cell_type": "code",
   "execution_count": 91,
   "id": "2981fc3d-4c52-4db9-b5c6-fc1399d0cfe5",
   "metadata": {},
   "outputs": [],
   "source": [
    "merged_data.set_index('trading_day',inplace = True)"
   ]
  },
  {
   "cell_type": "code",
   "execution_count": 97,
   "id": "2330c20c-12fc-43bf-8754-b19aff24521b",
   "metadata": {},
   "outputs": [
    {
     "name": "stderr",
     "output_type": "stream",
     "text": [
      "C:\\Users\\Rajat\\AppData\\Local\\Temp\\ipykernel_5780\\2217210859.py:12: FutureWarning: Series.__getitem__ treating keys as positions is deprecated. In a future version, integer keys will always be treated as labels (consistent with DataFrame behavior). To access a value by position, use `ser.iloc[pos]`\n",
      "  merged_data[\"buy_hold_wealth\"] = merged_data['last_close']/merged_data['last_close'][0]\n"
     ]
    }
   ],
   "source": [
    "# **Calculate daily returns for each strategy**\n",
    "merged_data[\"intraday_daily_return\"] = np.where(\n",
    "    merged_data[\"predicted_signal\"] == 1,\n",
    "    (merged_data[\"last_close\"] / merged_data[\"first_close\"]) - 1,  # Buy if predicted up\n",
    "    (merged_data[\"first_close\"] / merged_data[\"last_close\"]) - 1  # Short-sell if predicted down\n",
    ")\n",
    "\n",
    "merged_data[\"buy_hold_daily_return\"] = (merged_data[\"last_close\"] / merged_data[\"first_close\"]) - 1\n",
    "\n",
    "# **Start with ₹1 investment in each strategy**\n",
    "merged_data[\"intraday_wealth\"] = (1 + merged_data[\"intraday_daily_return\"]).cumprod()\n",
    "merged_data[\"buy_hold_wealth\"] = merged_data['last_close']/merged_data['last_close'][0]"
   ]
  },
  {
   "cell_type": "code",
   "execution_count": 115,
   "id": "20914b07-d35d-4313-88f5-569c221cfdaf",
   "metadata": {},
   "outputs": [
    {
     "data": {
      "text/plain": [
       "0.12280561590419042"
      ]
     },
     "execution_count": 115,
     "metadata": {},
     "output_type": "execute_result"
    }
   ],
   "source": [
    "merged_data['intraday_daily_return'].std()*np.sqrt(252)"
   ]
  },
  {
   "cell_type": "code",
   "execution_count": 117,
   "id": "428abcc6-d32d-49ba-8e4b-003d403f336a",
   "metadata": {},
   "outputs": [
    {
     "data": {
      "text/plain": [
       "<matplotlib.legend.Legend at 0x23a2d1f69c0>"
      ]
     },
     "execution_count": 117,
     "metadata": {},
     "output_type": "execute_result"
    },
    {
     "data": {
      "image/png": "[encoded data removed]",
      "text/plain": [
       "<Figure size 640x480 with 1 Axes>"
      ]
     },
     "metadata": {},
     "output_type": "display_data"
    }
   ],
   "source": [
    "plt.plot(merged_data['intraday_wealth'] , label = 'Intraday Trading Strategy')\n",
    "plt.plot(merged_data[\"buy_hold_wealth\"] , label = 'Buy and Hold Strategy')\n",
    "plt.legend()"
   ]
  },
  {
   "cell_type": "code",
   "execution_count": null,
   "id": "f2332df7-28c0-40fa-a73c-369420bbea9f",
   "metadata": {},
   "outputs": [],
   "source": []
  }
 ],
 "metadata": {
  "kernelspec": {
   "display_name": "Python 3 (ipykernel)",
   "language": "python",
   "name": "python3"
  },
  "language_info": {
   "codemirror_mode": {
    "name": "ipython",
    "version": 3
   },
   "file_extension": ".py",
   "mimetype": "text/x-python",
   "name": "python",
   "nbconvert_exporter": "python",
   "pygments_lexer": "ipython3",
   "version": "3.12.7"
  }
 },
 "nbformat": 4,
 "nbformat_minor": 5
}
